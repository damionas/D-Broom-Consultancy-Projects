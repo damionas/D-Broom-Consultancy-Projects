{
 "cells": [
  {
   "cell_type": "code",
   "execution_count": 1,
   "id": "56122360",
   "metadata": {},
   "outputs": [],
   "source": [
    "import pandas as pd\n",
    "import numpy as np"
   ]
  },
  {
   "cell_type": "code",
   "execution_count": 2,
   "id": "19f2c5db",
   "metadata": {},
   "outputs": [],
   "source": [
    "df = pd.read_csv('tripadvisor_hotel_reviews.csv')"
   ]
  },
  {
   "cell_type": "code",
   "execution_count": 3,
   "id": "e41a57b3",
   "metadata": {},
   "outputs": [
    {
     "data": {
      "text/html": [
       "<div>\n",
       "<style scoped>\n",
       "    .dataframe tbody tr th:only-of-type {\n",
       "        vertical-align: middle;\n",
       "    }\n",
       "\n",
       "    .dataframe tbody tr th {\n",
       "        vertical-align: top;\n",
       "    }\n",
       "\n",
       "    .dataframe thead th {\n",
       "        text-align: right;\n",
       "    }\n",
       "</style>\n",
       "<table border=\"1\" class=\"dataframe\">\n",
       "  <thead>\n",
       "    <tr style=\"text-align: right;\">\n",
       "      <th></th>\n",
       "      <th>Review</th>\n",
       "      <th>Rating</th>\n",
       "    </tr>\n",
       "  </thead>\n",
       "  <tbody>\n",
       "    <tr>\n",
       "      <th>0</th>\n",
       "      <td>nice hotel expensive parking got good deal sta...</td>\n",
       "      <td>4</td>\n",
       "    </tr>\n",
       "    <tr>\n",
       "      <th>1</th>\n",
       "      <td>ok nothing special charge diamond member hilto...</td>\n",
       "      <td>2</td>\n",
       "    </tr>\n",
       "    <tr>\n",
       "      <th>2</th>\n",
       "      <td>nice rooms not 4* experience hotel monaco seat...</td>\n",
       "      <td>3</td>\n",
       "    </tr>\n",
       "    <tr>\n",
       "      <th>3</th>\n",
       "      <td>unique, great stay, wonderful time hotel monac...</td>\n",
       "      <td>5</td>\n",
       "    </tr>\n",
       "    <tr>\n",
       "      <th>4</th>\n",
       "      <td>great stay great stay, went seahawk game aweso...</td>\n",
       "      <td>5</td>\n",
       "    </tr>\n",
       "  </tbody>\n",
       "</table>\n",
       "</div>"
      ],
      "text/plain": [
       "                                              Review  Rating\n",
       "0  nice hotel expensive parking got good deal sta...       4\n",
       "1  ok nothing special charge diamond member hilto...       2\n",
       "2  nice rooms not 4* experience hotel monaco seat...       3\n",
       "3  unique, great stay, wonderful time hotel monac...       5\n",
       "4  great stay great stay, went seahawk game aweso...       5"
      ]
     },
     "execution_count": 3,
     "metadata": {},
     "output_type": "execute_result"
    }
   ],
   "source": [
    "df.head()"
   ]
  },
  {
   "cell_type": "code",
   "execution_count": 4,
   "id": "452912f9",
   "metadata": {},
   "outputs": [
    {
     "data": {
      "text/plain": [
       "Review    0\n",
       "Rating    0\n",
       "dtype: int64"
      ]
     },
     "execution_count": 4,
     "metadata": {},
     "output_type": "execute_result"
    }
   ],
   "source": [
    "df.isnull().sum()"
   ]
  },
  {
   "cell_type": "code",
   "execution_count": 5,
   "id": "b6c82ad7",
   "metadata": {},
   "outputs": [],
   "source": [
    "blanks = []\n",
    "for index in df.Review:\n",
    "    if index.isspace() == True:\n",
    "        blanks.append(index)"
   ]
  },
  {
   "cell_type": "code",
   "execution_count": 6,
   "id": "780bd615",
   "metadata": {},
   "outputs": [
    {
     "data": {
      "text/plain": [
       "[]"
      ]
     },
     "execution_count": 6,
     "metadata": {},
     "output_type": "execute_result"
    }
   ],
   "source": [
    "blanks"
   ]
  },
  {
   "cell_type": "code",
   "execution_count": 7,
   "id": "8f8f2edb",
   "metadata": {},
   "outputs": [
    {
     "data": {
      "text/plain": [
       "1    1421\n",
       "2    1793\n",
       "3    2184\n",
       "4    6039\n",
       "5    9054\n",
       "Name: Rating, dtype: int64"
      ]
     },
     "execution_count": 7,
     "metadata": {},
     "output_type": "execute_result"
    }
   ],
   "source": [
    "df[\"Rating\"].value_counts().sort_values()"
   ]
  },
  {
   "cell_type": "code",
   "execution_count": 8,
   "id": "4ac6179e",
   "metadata": {},
   "outputs": [],
   "source": [
    "def rating(rating):\n",
    "    if rating > 3 and rating<=5:\n",
    "        return \"Positive\"\n",
    "    if rating > 0 and rating <=3:\n",
    "        return \"Negative\"\n",
    "df[\"Rating_posorneg\"] = df.Rating.apply(rating)"
   ]
  },
  {
   "cell_type": "code",
   "execution_count": 10,
   "id": "351458d4",
   "metadata": {},
   "outputs": [
    {
     "data": {
      "text/html": [
       "<div>\n",
       "<style scoped>\n",
       "    .dataframe tbody tr th:only-of-type {\n",
       "        vertical-align: middle;\n",
       "    }\n",
       "\n",
       "    .dataframe tbody tr th {\n",
       "        vertical-align: top;\n",
       "    }\n",
       "\n",
       "    .dataframe thead th {\n",
       "        text-align: right;\n",
       "    }\n",
       "</style>\n",
       "<table border=\"1\" class=\"dataframe\">\n",
       "  <thead>\n",
       "    <tr style=\"text-align: right;\">\n",
       "      <th></th>\n",
       "      <th>Review</th>\n",
       "      <th>Rating</th>\n",
       "      <th>Rating_posorneg</th>\n",
       "    </tr>\n",
       "  </thead>\n",
       "  <tbody>\n",
       "    <tr>\n",
       "      <th>0</th>\n",
       "      <td>nice hotel expensive parking got good deal sta...</td>\n",
       "      <td>4</td>\n",
       "      <td>Positive</td>\n",
       "    </tr>\n",
       "    <tr>\n",
       "      <th>1</th>\n",
       "      <td>ok nothing special charge diamond member hilto...</td>\n",
       "      <td>2</td>\n",
       "      <td>Negative</td>\n",
       "    </tr>\n",
       "    <tr>\n",
       "      <th>2</th>\n",
       "      <td>nice rooms not 4* experience hotel monaco seat...</td>\n",
       "      <td>3</td>\n",
       "      <td>Negative</td>\n",
       "    </tr>\n",
       "    <tr>\n",
       "      <th>3</th>\n",
       "      <td>unique, great stay, wonderful time hotel monac...</td>\n",
       "      <td>5</td>\n",
       "      <td>Positive</td>\n",
       "    </tr>\n",
       "    <tr>\n",
       "      <th>4</th>\n",
       "      <td>great stay great stay, went seahawk game aweso...</td>\n",
       "      <td>5</td>\n",
       "      <td>Positive</td>\n",
       "    </tr>\n",
       "  </tbody>\n",
       "</table>\n",
       "</div>"
      ],
      "text/plain": [
       "                                              Review  Rating Rating_posorneg\n",
       "0  nice hotel expensive parking got good deal sta...       4        Positive\n",
       "1  ok nothing special charge diamond member hilto...       2        Negative\n",
       "2  nice rooms not 4* experience hotel monaco seat...       3        Negative\n",
       "3  unique, great stay, wonderful time hotel monac...       5        Positive\n",
       "4  great stay great stay, went seahawk game aweso...       5        Positive"
      ]
     },
     "execution_count": 10,
     "metadata": {},
     "output_type": "execute_result"
    }
   ],
   "source": [
    "df.head()"
   ]
  },
  {
   "cell_type": "code",
   "execution_count": 10,
   "id": "e66c6e57",
   "metadata": {},
   "outputs": [
    {
     "data": {
      "text/plain": [
       "Positive    15093\n",
       "Negative     5398\n",
       "Name: Rating_posorneg, dtype: int64"
      ]
     },
     "execution_count": 10,
     "metadata": {},
     "output_type": "execute_result"
    }
   ],
   "source": [
    "df[\"Rating_posorneg\"].value_counts()"
   ]
  },
  {
   "cell_type": "code",
   "execution_count": 12,
   "id": "93fbd06b",
   "metadata": {},
   "outputs": [],
   "source": [
    "#Sentiment Analysis"
   ]
  },
  {
   "cell_type": "code",
   "execution_count": 11,
   "id": "61f70b4c",
   "metadata": {},
   "outputs": [
    {
     "name": "stderr",
     "output_type": "stream",
     "text": [
      "[nltk_data] Downloading package vader_lexicon to\n",
      "[nltk_data]     C:\\Users\\onata\\AppData\\Roaming\\nltk_data...\n",
      "[nltk_data]   Package vader_lexicon is already up-to-date!\n"
     ]
    },
    {
     "data": {
      "text/plain": [
       "True"
      ]
     },
     "execution_count": 11,
     "metadata": {},
     "output_type": "execute_result"
    }
   ],
   "source": [
    "import nltk\n",
    "nltk.download(\"vader_lexicon\")"
   ]
  },
  {
   "cell_type": "code",
   "execution_count": 12,
   "id": "602d8d53",
   "metadata": {},
   "outputs": [],
   "source": [
    "from nltk.sentiment.vader import SentimentIntensityAnalyzer\n",
    "sentanalyze = SentimentIntensityAnalyzer()"
   ]
  },
  {
   "cell_type": "code",
   "execution_count": 13,
   "id": "95af0e48",
   "metadata": {},
   "outputs": [],
   "source": [
    "df[\"Scores\"] = df[\"Review\"].apply(lambda review:sentanalyze.polarity_scores(review))"
   ]
  },
  {
   "cell_type": "code",
   "execution_count": 17,
   "id": "a508e813",
   "metadata": {},
   "outputs": [
    {
     "data": {
      "text/html": [
       "<div>\n",
       "<style scoped>\n",
       "    .dataframe tbody tr th:only-of-type {\n",
       "        vertical-align: middle;\n",
       "    }\n",
       "\n",
       "    .dataframe tbody tr th {\n",
       "        vertical-align: top;\n",
       "    }\n",
       "\n",
       "    .dataframe thead th {\n",
       "        text-align: right;\n",
       "    }\n",
       "</style>\n",
       "<table border=\"1\" class=\"dataframe\">\n",
       "  <thead>\n",
       "    <tr style=\"text-align: right;\">\n",
       "      <th></th>\n",
       "      <th>Review</th>\n",
       "      <th>Rating</th>\n",
       "      <th>Rating_posorneg</th>\n",
       "      <th>Scores</th>\n",
       "    </tr>\n",
       "  </thead>\n",
       "  <tbody>\n",
       "    <tr>\n",
       "      <th>0</th>\n",
       "      <td>nice hotel expensive parking got good deal sta...</td>\n",
       "      <td>4</td>\n",
       "      <td>Positive</td>\n",
       "      <td>{'neg': 0.072, 'neu': 0.643, 'pos': 0.285, 'co...</td>\n",
       "    </tr>\n",
       "    <tr>\n",
       "      <th>1</th>\n",
       "      <td>ok nothing special charge diamond member hilto...</td>\n",
       "      <td>2</td>\n",
       "      <td>Negative</td>\n",
       "      <td>{'neg': 0.11, 'neu': 0.701, 'pos': 0.189, 'com...</td>\n",
       "    </tr>\n",
       "    <tr>\n",
       "      <th>2</th>\n",
       "      <td>nice rooms not 4* experience hotel monaco seat...</td>\n",
       "      <td>3</td>\n",
       "      <td>Negative</td>\n",
       "      <td>{'neg': 0.081, 'neu': 0.7, 'pos': 0.219, 'comp...</td>\n",
       "    </tr>\n",
       "    <tr>\n",
       "      <th>3</th>\n",
       "      <td>unique, great stay, wonderful time hotel monac...</td>\n",
       "      <td>5</td>\n",
       "      <td>Positive</td>\n",
       "      <td>{'neg': 0.06, 'neu': 0.555, 'pos': 0.385, 'com...</td>\n",
       "    </tr>\n",
       "    <tr>\n",
       "      <th>4</th>\n",
       "      <td>great stay great stay, went seahawk game aweso...</td>\n",
       "      <td>5</td>\n",
       "      <td>Positive</td>\n",
       "      <td>{'neg': 0.135, 'neu': 0.643, 'pos': 0.221, 'co...</td>\n",
       "    </tr>\n",
       "  </tbody>\n",
       "</table>\n",
       "</div>"
      ],
      "text/plain": [
       "                                              Review  Rating Rating_posorneg  \\\n",
       "0  nice hotel expensive parking got good deal sta...       4        Positive   \n",
       "1  ok nothing special charge diamond member hilto...       2        Negative   \n",
       "2  nice rooms not 4* experience hotel monaco seat...       3        Negative   \n",
       "3  unique, great stay, wonderful time hotel monac...       5        Positive   \n",
       "4  great stay great stay, went seahawk game aweso...       5        Positive   \n",
       "\n",
       "                                              Scores  \n",
       "0  {'neg': 0.072, 'neu': 0.643, 'pos': 0.285, 'co...  \n",
       "1  {'neg': 0.11, 'neu': 0.701, 'pos': 0.189, 'com...  \n",
       "2  {'neg': 0.081, 'neu': 0.7, 'pos': 0.219, 'comp...  \n",
       "3  {'neg': 0.06, 'neu': 0.555, 'pos': 0.385, 'com...  \n",
       "4  {'neg': 0.135, 'neu': 0.643, 'pos': 0.221, 'co...  "
      ]
     },
     "execution_count": 17,
     "metadata": {},
     "output_type": "execute_result"
    }
   ],
   "source": [
    "df.head()"
   ]
  },
  {
   "cell_type": "code",
   "execution_count": 14,
   "id": "04bc6b81",
   "metadata": {},
   "outputs": [],
   "source": [
    "df[\"compound\"] = df['Scores'].apply(lambda f:f[\"compound\"])"
   ]
  },
  {
   "cell_type": "code",
   "execution_count": 15,
   "id": "05825e38",
   "metadata": {},
   "outputs": [
    {
     "data": {
      "text/html": [
       "<div>\n",
       "<style scoped>\n",
       "    .dataframe tbody tr th:only-of-type {\n",
       "        vertical-align: middle;\n",
       "    }\n",
       "\n",
       "    .dataframe tbody tr th {\n",
       "        vertical-align: top;\n",
       "    }\n",
       "\n",
       "    .dataframe thead th {\n",
       "        text-align: right;\n",
       "    }\n",
       "</style>\n",
       "<table border=\"1\" class=\"dataframe\">\n",
       "  <thead>\n",
       "    <tr style=\"text-align: right;\">\n",
       "      <th></th>\n",
       "      <th>Review</th>\n",
       "      <th>Rating</th>\n",
       "      <th>Rating_posorneg</th>\n",
       "      <th>Scores</th>\n",
       "      <th>compound</th>\n",
       "    </tr>\n",
       "  </thead>\n",
       "  <tbody>\n",
       "    <tr>\n",
       "      <th>0</th>\n",
       "      <td>nice hotel expensive parking got good deal sta...</td>\n",
       "      <td>4</td>\n",
       "      <td>Positive</td>\n",
       "      <td>{'neg': 0.072, 'neu': 0.643, 'pos': 0.285, 'co...</td>\n",
       "      <td>0.9747</td>\n",
       "    </tr>\n",
       "    <tr>\n",
       "      <th>1</th>\n",
       "      <td>ok nothing special charge diamond member hilto...</td>\n",
       "      <td>2</td>\n",
       "      <td>Negative</td>\n",
       "      <td>{'neg': 0.11, 'neu': 0.701, 'pos': 0.189, 'com...</td>\n",
       "      <td>0.9787</td>\n",
       "    </tr>\n",
       "    <tr>\n",
       "      <th>2</th>\n",
       "      <td>nice rooms not 4* experience hotel monaco seat...</td>\n",
       "      <td>3</td>\n",
       "      <td>Negative</td>\n",
       "      <td>{'neg': 0.081, 'neu': 0.7, 'pos': 0.219, 'comp...</td>\n",
       "      <td>0.9889</td>\n",
       "    </tr>\n",
       "    <tr>\n",
       "      <th>3</th>\n",
       "      <td>unique, great stay, wonderful time hotel monac...</td>\n",
       "      <td>5</td>\n",
       "      <td>Positive</td>\n",
       "      <td>{'neg': 0.06, 'neu': 0.555, 'pos': 0.385, 'com...</td>\n",
       "      <td>0.9912</td>\n",
       "    </tr>\n",
       "    <tr>\n",
       "      <th>4</th>\n",
       "      <td>great stay great stay, went seahawk game aweso...</td>\n",
       "      <td>5</td>\n",
       "      <td>Positive</td>\n",
       "      <td>{'neg': 0.135, 'neu': 0.643, 'pos': 0.221, 'co...</td>\n",
       "      <td>0.9797</td>\n",
       "    </tr>\n",
       "  </tbody>\n",
       "</table>\n",
       "</div>"
      ],
      "text/plain": [
       "                                              Review  Rating Rating_posorneg  \\\n",
       "0  nice hotel expensive parking got good deal sta...       4        Positive   \n",
       "1  ok nothing special charge diamond member hilto...       2        Negative   \n",
       "2  nice rooms not 4* experience hotel monaco seat...       3        Negative   \n",
       "3  unique, great stay, wonderful time hotel monac...       5        Positive   \n",
       "4  great stay great stay, went seahawk game aweso...       5        Positive   \n",
       "\n",
       "                                              Scores  compound  \n",
       "0  {'neg': 0.072, 'neu': 0.643, 'pos': 0.285, 'co...    0.9747  \n",
       "1  {'neg': 0.11, 'neu': 0.701, 'pos': 0.189, 'com...    0.9787  \n",
       "2  {'neg': 0.081, 'neu': 0.7, 'pos': 0.219, 'comp...    0.9889  \n",
       "3  {'neg': 0.06, 'neu': 0.555, 'pos': 0.385, 'com...    0.9912  \n",
       "4  {'neg': 0.135, 'neu': 0.643, 'pos': 0.221, 'co...    0.9797  "
      ]
     },
     "execution_count": 15,
     "metadata": {},
     "output_type": "execute_result"
    }
   ],
   "source": [
    "df.head()"
   ]
  },
  {
   "cell_type": "code",
   "execution_count": 16,
   "id": "f44f2124",
   "metadata": {},
   "outputs": [],
   "source": [
    "df[\"compound_posorneg\"] = df[\"compound\"].apply(lambda score:'Positive' \n",
    "                                               if score >= 0 else 'Negative' )"
   ]
  },
  {
   "cell_type": "code",
   "execution_count": 17,
   "id": "71be1510",
   "metadata": {
    "scrolled": true
   },
   "outputs": [
    {
     "data": {
      "text/html": [
       "<div>\n",
       "<style scoped>\n",
       "    .dataframe tbody tr th:only-of-type {\n",
       "        vertical-align: middle;\n",
       "    }\n",
       "\n",
       "    .dataframe tbody tr th {\n",
       "        vertical-align: top;\n",
       "    }\n",
       "\n",
       "    .dataframe thead th {\n",
       "        text-align: right;\n",
       "    }\n",
       "</style>\n",
       "<table border=\"1\" class=\"dataframe\">\n",
       "  <thead>\n",
       "    <tr style=\"text-align: right;\">\n",
       "      <th></th>\n",
       "      <th>Review</th>\n",
       "      <th>Rating</th>\n",
       "      <th>Rating_posorneg</th>\n",
       "      <th>Scores</th>\n",
       "      <th>compound</th>\n",
       "      <th>compound_posorneg</th>\n",
       "    </tr>\n",
       "  </thead>\n",
       "  <tbody>\n",
       "    <tr>\n",
       "      <th>0</th>\n",
       "      <td>nice hotel expensive parking got good deal sta...</td>\n",
       "      <td>4</td>\n",
       "      <td>Positive</td>\n",
       "      <td>{'neg': 0.072, 'neu': 0.643, 'pos': 0.285, 'co...</td>\n",
       "      <td>0.9747</td>\n",
       "      <td>Positive</td>\n",
       "    </tr>\n",
       "    <tr>\n",
       "      <th>1</th>\n",
       "      <td>ok nothing special charge diamond member hilto...</td>\n",
       "      <td>2</td>\n",
       "      <td>Negative</td>\n",
       "      <td>{'neg': 0.11, 'neu': 0.701, 'pos': 0.189, 'com...</td>\n",
       "      <td>0.9787</td>\n",
       "      <td>Positive</td>\n",
       "    </tr>\n",
       "    <tr>\n",
       "      <th>2</th>\n",
       "      <td>nice rooms not 4* experience hotel monaco seat...</td>\n",
       "      <td>3</td>\n",
       "      <td>Negative</td>\n",
       "      <td>{'neg': 0.081, 'neu': 0.7, 'pos': 0.219, 'comp...</td>\n",
       "      <td>0.9889</td>\n",
       "      <td>Positive</td>\n",
       "    </tr>\n",
       "    <tr>\n",
       "      <th>3</th>\n",
       "      <td>unique, great stay, wonderful time hotel monac...</td>\n",
       "      <td>5</td>\n",
       "      <td>Positive</td>\n",
       "      <td>{'neg': 0.06, 'neu': 0.555, 'pos': 0.385, 'com...</td>\n",
       "      <td>0.9912</td>\n",
       "      <td>Positive</td>\n",
       "    </tr>\n",
       "    <tr>\n",
       "      <th>4</th>\n",
       "      <td>great stay great stay, went seahawk game aweso...</td>\n",
       "      <td>5</td>\n",
       "      <td>Positive</td>\n",
       "      <td>{'neg': 0.135, 'neu': 0.643, 'pos': 0.221, 'co...</td>\n",
       "      <td>0.9797</td>\n",
       "      <td>Positive</td>\n",
       "    </tr>\n",
       "    <tr>\n",
       "      <th>...</th>\n",
       "      <td>...</td>\n",
       "      <td>...</td>\n",
       "      <td>...</td>\n",
       "      <td>...</td>\n",
       "      <td>...</td>\n",
       "      <td>...</td>\n",
       "    </tr>\n",
       "    <tr>\n",
       "      <th>95</th>\n",
       "      <td>excellent stay staff friendly helpful, nice ho...</td>\n",
       "      <td>4</td>\n",
       "      <td>Positive</td>\n",
       "      <td>{'neg': 0.0, 'neu': 0.428, 'pos': 0.572, 'comp...</td>\n",
       "      <td>0.9761</td>\n",
       "      <td>Positive</td>\n",
       "    </tr>\n",
       "    <tr>\n",
       "      <th>96</th>\n",
       "      <td>return going seattle booked hotel knowing budg...</td>\n",
       "      <td>4</td>\n",
       "      <td>Positive</td>\n",
       "      <td>{'neg': 0.112, 'neu': 0.651, 'pos': 0.237, 'co...</td>\n",
       "      <td>0.9097</td>\n",
       "      <td>Positive</td>\n",
       "    </tr>\n",
       "    <tr>\n",
       "      <th>97</th>\n",
       "      <td>terrible hotel approximately 2 weeks ago april...</td>\n",
       "      <td>1</td>\n",
       "      <td>Negative</td>\n",
       "      <td>{'neg': 0.115, 'neu': 0.749, 'pos': 0.136, 'co...</td>\n",
       "      <td>0.2350</td>\n",
       "      <td>Positive</td>\n",
       "    </tr>\n",
       "    <tr>\n",
       "      <th>98</th>\n",
       "      <td>great price okay experience stayed inn queen a...</td>\n",
       "      <td>3</td>\n",
       "      <td>Negative</td>\n",
       "      <td>{'neg': 0.123, 'neu': 0.615, 'pos': 0.262, 'co...</td>\n",
       "      <td>0.9771</td>\n",
       "      <td>Positive</td>\n",
       "    </tr>\n",
       "    <tr>\n",
       "      <th>99</th>\n",
       "      <td>old dumpy place problems head starts spinning ...</td>\n",
       "      <td>1</td>\n",
       "      <td>Negative</td>\n",
       "      <td>{'neg': 0.217, 'neu': 0.644, 'pos': 0.139, 'co...</td>\n",
       "      <td>-0.9065</td>\n",
       "      <td>Negative</td>\n",
       "    </tr>\n",
       "  </tbody>\n",
       "</table>\n",
       "<p>100 rows × 6 columns</p>\n",
       "</div>"
      ],
      "text/plain": [
       "                                               Review  Rating Rating_posorneg  \\\n",
       "0   nice hotel expensive parking got good deal sta...       4        Positive   \n",
       "1   ok nothing special charge diamond member hilto...       2        Negative   \n",
       "2   nice rooms not 4* experience hotel monaco seat...       3        Negative   \n",
       "3   unique, great stay, wonderful time hotel monac...       5        Positive   \n",
       "4   great stay great stay, went seahawk game aweso...       5        Positive   \n",
       "..                                                ...     ...             ...   \n",
       "95  excellent stay staff friendly helpful, nice ho...       4        Positive   \n",
       "96  return going seattle booked hotel knowing budg...       4        Positive   \n",
       "97  terrible hotel approximately 2 weeks ago april...       1        Negative   \n",
       "98  great price okay experience stayed inn queen a...       3        Negative   \n",
       "99  old dumpy place problems head starts spinning ...       1        Negative   \n",
       "\n",
       "                                               Scores  compound  \\\n",
       "0   {'neg': 0.072, 'neu': 0.643, 'pos': 0.285, 'co...    0.9747   \n",
       "1   {'neg': 0.11, 'neu': 0.701, 'pos': 0.189, 'com...    0.9787   \n",
       "2   {'neg': 0.081, 'neu': 0.7, 'pos': 0.219, 'comp...    0.9889   \n",
       "3   {'neg': 0.06, 'neu': 0.555, 'pos': 0.385, 'com...    0.9912   \n",
       "4   {'neg': 0.135, 'neu': 0.643, 'pos': 0.221, 'co...    0.9797   \n",
       "..                                                ...       ...   \n",
       "95  {'neg': 0.0, 'neu': 0.428, 'pos': 0.572, 'comp...    0.9761   \n",
       "96  {'neg': 0.112, 'neu': 0.651, 'pos': 0.237, 'co...    0.9097   \n",
       "97  {'neg': 0.115, 'neu': 0.749, 'pos': 0.136, 'co...    0.2350   \n",
       "98  {'neg': 0.123, 'neu': 0.615, 'pos': 0.262, 'co...    0.9771   \n",
       "99  {'neg': 0.217, 'neu': 0.644, 'pos': 0.139, 'co...   -0.9065   \n",
       "\n",
       "   compound_posorneg  \n",
       "0           Positive  \n",
       "1           Positive  \n",
       "2           Positive  \n",
       "3           Positive  \n",
       "4           Positive  \n",
       "..               ...  \n",
       "95          Positive  \n",
       "96          Positive  \n",
       "97          Positive  \n",
       "98          Positive  \n",
       "99          Negative  \n",
       "\n",
       "[100 rows x 6 columns]"
      ]
     },
     "execution_count": 17,
     "metadata": {},
     "output_type": "execute_result"
    }
   ],
   "source": [
    "df.head(100)"
   ]
  },
  {
   "cell_type": "code",
   "execution_count": 18,
   "id": "a50cc085",
   "metadata": {},
   "outputs": [
    {
     "data": {
      "text/plain": [
       "{'neg': 0.538, 'neu': 0.462, 'pos': 0.0, 'compound': -0.5423}"
      ]
     },
     "execution_count": 18,
     "metadata": {},
     "output_type": "execute_result"
    }
   ],
   "source": [
    "example = \"The hotel is bad\"\n",
    "sentanalyze.polarity_scores(example)"
   ]
  },
  {
   "cell_type": "markdown",
   "id": "b2d8ac5f",
   "metadata": {},
   "source": [
    "# TEXT CLASSIFICATION"
   ]
  },
  {
   "cell_type": "code",
   "execution_count": 19,
   "id": "294acb82",
   "metadata": {},
   "outputs": [],
   "source": [
    "from sklearn.model_selection import train_test_split"
   ]
  },
  {
   "cell_type": "code",
   "execution_count": 20,
   "id": "0a232407",
   "metadata": {},
   "outputs": [],
   "source": [
    "X = df[\"Review\"]\n",
    "y=df[\"Rating_posorneg\"]"
   ]
  },
  {
   "cell_type": "code",
   "execution_count": 21,
   "id": "b86a0932",
   "metadata": {},
   "outputs": [],
   "source": [
    "X_train, X_test, y_train,y_test = train_test_split(X,y, test_size = 0.3)"
   ]
  },
  {
   "cell_type": "code",
   "execution_count": 22,
   "id": "52523141",
   "metadata": {},
   "outputs": [],
   "source": [
    "from sklearn.pipeline import Pipeline\n",
    "from sklearn.feature_extraction.text import TfidfVectorizer\n",
    "from sklearn.svm import LinearSVC"
   ]
  },
  {
   "cell_type": "code",
   "execution_count": 23,
   "id": "c26a5d7b",
   "metadata": {},
   "outputs": [],
   "source": [
    "textclf = Pipeline([('tfidf',TfidfVectorizer()),('clf',LinearSVC())])"
   ]
  },
  {
   "cell_type": "code",
   "execution_count": 24,
   "id": "21edbd2a",
   "metadata": {},
   "outputs": [
    {
     "data": {
      "text/plain": [
       "Pipeline(steps=[('tfidf', TfidfVectorizer()), ('clf', LinearSVC())])"
      ]
     },
     "execution_count": 24,
     "metadata": {},
     "output_type": "execute_result"
    }
   ],
   "source": [
    "textclf.fit(X_train,y_train)"
   ]
  },
  {
   "cell_type": "code",
   "execution_count": 25,
   "id": "9902f3de",
   "metadata": {},
   "outputs": [],
   "source": [
    "preds = textclf.predict(X_test)"
   ]
  },
  {
   "cell_type": "code",
   "execution_count": 26,
   "id": "d6766597",
   "metadata": {},
   "outputs": [
    {
     "name": "stdout",
     "output_type": "stream",
     "text": [
      "0.897690305790501\n"
     ]
    }
   ],
   "source": [
    "from sklearn.metrics import accuracy_score\n",
    "print(accuracy_score(y_test,preds))"
   ]
  },
  {
   "cell_type": "code",
   "execution_count": 28,
   "id": "5c0074f8",
   "metadata": {},
   "outputs": [
    {
     "data": {
      "text/plain": [
       "array(['Positive'], dtype=object)"
      ]
     },
     "execution_count": 28,
     "metadata": {},
     "output_type": "execute_result"
    }
   ],
   "source": [
    "newreview = [(\"Hotel was bushy\")]\n",
    "textclf.predict(newreview)\n"
   ]
  },
  {
   "cell_type": "code",
   "execution_count": null,
   "id": "0190deb5",
   "metadata": {},
   "outputs": [],
   "source": []
  }
 ],
 "metadata": {
  "kernelspec": {
   "display_name": "Python 3 (ipykernel)",
   "language": "python",
   "name": "python3"
  },
  "language_info": {
   "codemirror_mode": {
    "name": "ipython",
    "version": 3
   },
   "file_extension": ".py",
   "mimetype": "text/x-python",
   "name": "python",
   "nbconvert_exporter": "python",
   "pygments_lexer": "ipython3",
   "version": "3.9.7"
  }
 },
 "nbformat": 4,
 "nbformat_minor": 5
}
